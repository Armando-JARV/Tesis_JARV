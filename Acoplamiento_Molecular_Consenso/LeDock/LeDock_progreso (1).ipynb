{
 "cells": [
  {
   "cell_type": "markdown",
   "id": "07b4170f-ff44-44e8-bbd6-fda232f35413",
   "metadata": {},
   "source": [
    "# Instalación de paqueterías"
   ]
  },
  {
   "cell_type": "code",
   "execution_count": 1,
   "id": "d73753e2-c87a-445d-9c03-dc5b99e19078",
   "metadata": {},
   "outputs": [],
   "source": [
    "import ipywidgets as widgets\n",
    "from IPython.display import display\n",
    "from ipyfilechooser import FileChooser\n",
    "from pathlib import Path\n",
    "from IPython.display import HTML, display, Javascript\n",
    "import xlsxwriter\n",
    "import pandas as pd\n",
    "import os\n",
    "\n"
   ]
  },
  {
   "cell_type": "code",
   "execution_count": 2,
   "id": "0171cc70-01f9-40e1-9267-ee4715a3ad47",
   "metadata": {},
   "outputs": [],
   "source": [
    "import glob\n",
    "import shutil\n"
   ]
  },
  {
   "cell_type": "markdown",
   "id": "d1ef70f0-5e14-4d0c-973f-86bb8068095e",
   "metadata": {},
   "source": [
    "# HTML"
   ]
  },
  {
   "cell_type": "code",
   "execution_count": 3,
   "id": "4c8cddd8-c2c0-4919-be5d-c66f0041425e",
   "metadata": {},
   "outputs": [],
   "source": [
    "#CSS styles\n",
    "waves_styles = \"\"\"\n",
    "<style>\n",
    "body {\n",
    "  margin: 0;\n",
    "  padding: 0;\n",
    "  box-sizing: border-box;\n",
    "}\n",
    ".center {\n",
    "  height: 50px;\n",
    "  display: flex;\n",
    "  justify-content: left;\n",
    "  align-items: left;\n",
    "}\n",
    ".wave {\n",
    "  width: 3px;\n",
    "  height: 30px;\n",
    "  background: linear-gradient(45deg, orange, purple);\n",
    "  margin: 6px;\n",
    "  animation: wave 1s linear infinite;\n",
    "  border-radius: 20px;\n",
    "}\n",
    ".wave:nth-child(2) {\n",
    "  animation-delay: 0.1s;\n",
    "}\n",
    ".wave:nth-child(3) {\n",
    "  animation-delay: 0.2s;\n",
    "}\n",
    ".wave:nth-child(4) {\n",
    "  animation-delay: 0.3s;\n",
    "}\n",
    ".wave:nth-child(5) {\n",
    "  animation-delay: 0.4s;\n",
    "}\n",
    ".wave:nth-child(6) {\n",
    "  animation-delay: 0.5s;\n",
    "}\n",
    ".wave:nth-child(7) {\n",
    "  animation-delay: 0.6s;\n",
    "}\n",
    ".wave:nth-child(8) {\n",
    "  animation-delay: 0.7s;\n",
    "}\n",
    ".wave:nth-child(9) {\n",
    "  animation-delay: 0.8s;\n",
    "}\n",
    ".wave:nth-child(10) {\n",
    "  animation-delay: 0.9s;\n",
    "}\n",
    "\n",
    "@keyframes wave {\n",
    "  0% {\n",
    "    transform: scale(0);\n",
    "  }\n",
    "  50% {\n",
    "    transform: scale(1);\n",
    "  }\n",
    "  100% {\n",
    "    transform: scale(0);\n",
    "  }\n",
    "}\n",
    "</style>\n",
    "\"\"\"\n",
    "\n",
    "#display(HTML(waves_styles))"
   ]
  },
  {
   "cell_type": "code",
   "execution_count": 4,
   "id": "0baa94e9-c69f-4ee1-a04a-44ba3acb3861",
   "metadata": {},
   "outputs": [],
   "source": [
    "#HTML Styles\n",
    "wave_html = \"\"\"\n",
    "<div class=\"center\">\n",
    "    <div class=\"wave\"></div>\n",
    "    <div class=\"wave\"></div>\n",
    "    <div class=\"wave\"></div>\n",
    "    <div class=\"wave\"></div>\n",
    "    <div class=\"wave\"></div>\n",
    "</div>\n",
    "\"\"\"\n",
    "\n",
    "hide_waves_js = \"\"\"\n",
    "document.querySelector('.center').style.display = 'none';\n",
    "\"\"\"\n",
    "\n",
    "show_waves_js = \"\"\"\n",
    "document.querySelector('.center').style.display = 'flex';\n",
    "\"\"\"\n",
    "\n",
    "#display(HTML(wave_html))"
   ]
  },
  {
   "cell_type": "code",
   "execution_count": 5,
   "id": "d89ee831-85f9-4b91-a05d-160dfd795a4b",
   "metadata": {},
   "outputs": [],
   "source": [
    "#HTML loader style\n",
    "\n",
    "loading_html = \"\"\"\n",
    "    <style>\n",
    "    @keyframes spin {\n",
    "        0% { transform: rotate(0deg); }\n",
    "        100% { transform: rotate(360deg); }\n",
    "    }\n",
    "    .spinner {\n",
    "        border: 4px solid rgba(0, 0, 0, 0.1);\n",
    "        border-left: 4px solid #3498db;\n",
    "        border-radius: 50%;\n",
    "        width: 20px;\n",
    "        height: 20px;\n",
    "        animation: spin 1s linear infinite;\n",
    "    }\n",
    "    </style>\n",
    "    <div class=\"spinner\"></div>\n",
    "    \"\"\"\n",
    "\n",
    "success_html = \"\"\"\n",
    "    <style>\n",
    "    .icon {\n",
    "        font-size: 30px;\n",
    "        display: inline-block;\n",
    "        width: 30px;\n",
    "        text-align: center;\n",
    "    }\n",
    "    .success-icon {\n",
    "        color: green;\n",
    "    }\n",
    "    </style>\n",
    "    <div class=\"icon success-icon\">&#10004;</div>\n",
    "    \"\"\"\n",
    "\n"
   ]
  },
  {
   "cell_type": "markdown",
   "id": "ee5d16b7-75b0-4c9a-8c16-fea8171b8004",
   "metadata": {},
   "source": [
    "<style>\n",
    "    body {\n",
    "        background-color: #ffdab9; \n",
    "        padding: 20px;\n",
    "        margin: 0;\n",
    "        ledock\n",
    "    }\n",
    "</style>"
   ]
  },
  {
   "cell_type": "markdown",
   "id": "031204b8-2ca3-4aed-ab42-78fdb8e058d4",
   "metadata": {},
   "source": [
    "<div style=\"background: linear-gradient(to bottom right, #77216F, #6E5494); padding: 20px; font-size: 36px; color: white; font-family: 'Pacifico', cursive;\">\n",
    "    LeDock\n",
    "</div>"
   ]
  },
  {
   "cell_type": "markdown",
   "id": "50b320ce-f858-4b2c-9944-8c99f39c30d3",
   "metadata": {},
   "source": [
    "Bienvenid@\n",
    "\n",
    "El formato recomendable para el uso de LeDock es el siguiente:\n",
    "\n",
    "- En tu carpeta personal:\n",
    "    1. Ten una carpeta con el nombre de la proteína con la que se realizará el dockeo\n",
    "    2. Dentro de la misma es recomendable tener la carpeta `/mol2` generada\n",
    "    3. Tener el archivo: `nombre_de_la_proteina.pdb`\n"
   ]
  },
  {
   "cell_type": "code",
   "execution_count": 6,
   "id": "2a12882e-2a53-4f7c-b02f-591abfcc21b4",
   "metadata": {},
   "outputs": [],
   "source": [
    "# Obtener el directorio actual\n",
    "actual_dir = %pwd\n",
    "# Definir la variable global para almacenar la proteína\n",
    "global protein_name\n",
    "# Nombres por defecto para archivos\n",
    "pro = \"pro.pdb\"\n",
    "dock_in = \"dock.in\"\n",
    "\n",
    "# Ruta ejecutable\n",
    "lepro = \"/home/jarv11/share/apps/lepro/1.0/bin/lepro\"\n",
    "\n",
    "# Configuración de botones interactivos \n",
    "pro_button = widgets.Button(description=\"procesar proteína\", button_style = 'Warning', tooltip = 'Iniciar procesamiento de la proteína antes de dockear')\n",
    "dock_button = widgets.Button(description = \"Dockear\")\n",
    "main_button = widgets.Button(description = 'Dockear',disabled = False ,button_style = 'warning' ,tooltip = 'Iniciar proceso de dockeo una vez que se haya procesado la proteína',icon = 'play')\n",
    "csv_button = widgets.Button(description = 'Generar .csv', disabled = False, button_style = 'success', tooltip = 'Generar archivo .csv automáticamente')"
   ]
  },
  {
   "cell_type": "code",
   "execution_count": 7,
   "id": "dadc5332-6b6b-4f0a-b3e3-4f9175015c97",
   "metadata": {},
   "outputs": [
    {
     "data": {
      "application/vnd.jupyter.widget-view+json": {
       "model_id": "327e2876d27a4a4192cbb43f06736cd1",
       "version_major": 2,
       "version_minor": 0
      },
      "text/plain": [
       "FileChooser(path='/home/jarv11', filename='', title='<b>Selecciona la proteína<b>', show_hidden=False, select_…"
      ]
     },
     "metadata": {},
     "output_type": "display_data"
    }
   ],
   "source": [
    "# Obtener la ruta del directorio \n",
    "home = str(Path.home()) \n",
    "\n",
    "# Configurar selectori de archivos\n",
    "folder_prote = FileChooser(f'{home}/') \n",
    "folder_prote.title = '<b>Selecciona la proteína<b>'\n",
    "folder_prote.show_only_dirs = False;\n",
    "folder_prote.filter_pattern = '*.pdb'\n",
    "display(folder_prote)\n",
    "\n",
    "# selección de la proteína\n",
    "def select_proteina():\n",
    "\n",
    "    global proteina, lepro_convert, proteina_folder\n",
    "    proteina = folder_prote.selected # obtener nombre de la proteína \n",
    "    proteina_folder = proteina.split('/')[-2]\n",
    "    \n",
    "    lepro_convert = f\"/home/jarv11/share/apps/lepro/1.0/bin/lepro {proteina}\"\n",
    "    \n",
    "folder_prote.register_callback(select_proteina) "
   ]
  },
  {
   "cell_type": "code",
   "execution_count": 9,
   "id": "6a9db185-1445-4eb1-97ba-7865a161e481",
   "metadata": {},
   "outputs": [],
   "source": [
    "# Actualizar el archivo de configuración (dock.in)\n",
    "# El que tiene los parametros entiendo\n",
    "def update_in(input, new_value):\n",
    "    \n",
    "    with open(input, \"r+\") as file:\n",
    "        lines = file.readlines()\n",
    "        file.seek(0)\n",
    "        \n",
    "    with open(input, \"w\") as file:\n",
    "        for i, line in enumerate(lines):\n",
    "            if \"Receptor\" in line:\n",
    "                lines[i + 1] = new_value+\"\\n\"\n",
    "            if \"Number of binding poses\" in line:\n",
    "                lines[i + 1] = \"20\"+\"\\n\"\n",
    "            if \"Ligands list\" in line:\n",
    "                lines[i + 1] = \"ligands.txt\"+\"\\n\" # Lista de moléculas en .mol2 y su ID\n",
    "        file.writelines(lines)\n",
    "        file.truncate()"
   ]
  },
  {
   "cell_type": "code",
   "execution_count": 10,
   "id": "2a19aa97-538d-44a5-b2d9-88ec5f091769",
   "metadata": {},
   "outputs": [],
   "source": [
    "global parent\n",
    "\n",
    "# Selección de directorios \n",
    "\n",
    "def dir_selector(proteina, opt):\n",
    "    \n",
    "    parent = os.path.dirname(proteina)\n",
    "    mol2_dir = os.path.join(parent, \"mol2\")\n",
    "    dok_dir = os.path.join(parent, \"dok\")\n",
    "    \n",
    "    if opt == 1:\n",
    "        return parent\n",
    "    if opt == 2:\n",
    "        return mol2_dir\n",
    "    elif opt == 3:\n",
    "        return dok_dir\n",
    "        "
   ]
  },
  {
   "cell_type": "code",
   "execution_count": 11,
   "id": "3771e381-e6ca-4223-9c2d-43b59a0fb0dd",
   "metadata": {},
   "outputs": [],
   "source": [
    "# Mover archivos a la carpeta (mol2)\n",
    "def move_to_mol2(input, protein_pro):\n",
    "    \n",
    "    input_path = f\"{os.path.dirname(proteina)}/{input}\"\n",
    "    protein_pro_path = f\"{os.path.dirname(proteina)}/{protein_pro}\"\n",
    "    temp_path = f\"{os.path.dirname(proteina)}/mol2\"\n",
    "\n",
    "    !mv {input_path} {temp_path}/\n",
    "    !mv {protein_pro_path} {temp_path}/"
   ]
  },
  {
   "cell_type": "code",
   "execution_count": 12,
   "id": "28336a9e-089a-47f5-8a63-102317409334",
   "metadata": {},
   "outputs": [],
   "source": [
    "# Crea la carpeta dok (directorio parent)\n",
    "def create_dir():\n",
    "    parent_folder = dir_selector(proteina, 1)\n",
    "    !mkdir {parent_folder}/dok"
   ]
  },
  {
   "cell_type": "code",
   "execution_count": 13,
   "id": "33040008-5a7f-475c-8292-2ca430582749",
   "metadata": {},
   "outputs": [],
   "source": [
    "def write_score(folder_path, parent):\n",
    "    start = \"REMARK Cluster\" #linea para encontrar los scores\n",
    "    dict_score = read_score(folder_path, start) # Lee los scores\n",
    "    sorted_dict = sorted(dict_score.items(), key=lambda x: x[1][\"score\"]) #Ordenar los scores\n",
    "\n",
    "    output_file_path = os.path.join(parent, \"output_score.txt\")\n",
    "\n",
    "    with open(output_file_path, 'w') as output_file:\n",
    "        output_file.write(\"Dockeo por Score:\\n\")\n",
    "        for file_name, data in sorted_dict:\n",
    "            file_name_f = os.path.splitext(file_name)[0]\n",
    "            output_file.write(f\"{file_name_f}: {data['score']}\\n\")\n",
    "            print(f\"{file_name_f}: {data['score']}\\n\")\n",
    "    print(\"Se ha escrito correctamente en el archivo o\")"
   ]
  },
  {
   "cell_type": "code",
   "execution_count": 14,
   "id": "c30d1d24-6ce6-478f-ace9-36a74b249cb3",
   "metadata": {},
   "outputs": [],
   "source": [
    "def read_score(folder_path, start):\n",
    "    file_score_dict = {}\n",
    "    \n",
    "    for file_name in os.listdir(folder_path):\n",
    "        file_path = os.path.join(folder_path, file_name)\n",
    "        \n",
    "        if os.path.isfile(file_path):\n",
    "            with open(file_path, 'r') as file:\n",
    "                for line in file:\n",
    "                    if line.startswith(start): #busca la linea clave, start\n",
    "                        score_unit = line.split(\"Score: \")[1].split()[0]\n",
    "                        score = float(score_unit.replace(\"kcal/mol\", \"\")) # Extraer los scores\n",
    "                        line_no_prefix = line.split(\"Score: \")[1].strip()\n",
    "                        file_score_dict[file_name] = {\"line\": line_no_prefix .strip(), \"score\": score}\n",
    "                        break\n",
    "    return file_score_dict"
   ]
  },
  {
   "cell_type": "code",
   "execution_count": 15,
   "id": "a347ec83-21d0-4fee-a117-85792e5060da",
   "metadata": {},
   "outputs": [],
   "source": [
    "def read_txt():\n",
    "\n",
    "    ligands = [] \n",
    "    score = []\n",
    "\n",
    "    list = []\n",
    "\n",
    "    os.chdir(dir_selector(proteina, 1)) # cambiar el directorio \n",
    "    \n",
    "    file_path = os.path.join(os.getcwd(), \"output_score.txt\") # Ruta del archivo\n",
    "\n",
    "    # Ver archivo output\n",
    "    with open(file_path,'r') as file:\n",
    "        next(file)\n",
    "        for line in file:\n",
    "            list = line.split(\": \")\n",
    "            ligands.append(list[0])\n",
    "            score.append(list[1].strip())\n",
    "            \n",
    "    return ligands, score"
   ]
  },
  {
   "cell_type": "markdown",
   "id": "4ea8b81a-efa9-4320-b2a1-0472f9e59005",
   "metadata": {},
   "source": [
    "#### Estatus del procesamiento de la proteína"
   ]
  },
  {
   "cell_type": "code",
   "execution_count": 16,
   "id": "ef0fbbee-9fea-4140-95fd-a8af3a656116",
   "metadata": {},
   "outputs": [
    {
     "data": {
      "application/vnd.jupyter.widget-view+json": {
       "model_id": "985fcb086fcb417ab8279af47ef6913f",
       "version_major": 2,
       "version_minor": 0
      },
      "text/plain": [
       "Output()"
      ]
     },
     "metadata": {},
     "output_type": "display_data"
    }
   ],
   "source": [
    "global ledock_cmd\n",
    "\n",
    "lepro_status = widgets.Output()\n",
    "display(lepro_status)\n",
    "\n",
    "def lepro():\n",
    "\n",
    "    with lepro_status:\n",
    "        lepro_status.clear_output()\n",
    "        display(HTML(waves_styles))\n",
    "        display(HTML(wave_html))\n",
    "    \n",
    "    global input_dock\n",
    "\n",
    "    protein_name = os.path.basename(proteina)\n",
    "    protein_pro = protein_name.replace('.pdb', '_pro.pdb')\n",
    "    input_dock = protein_name.replace('.pdb', '')\n",
    "    input_dock += \".in\"\n",
    "\n",
    "    os.chdir(os.path.dirname(proteina))\n",
    "    \n",
    "    !{lepro_convert}\n",
    "    \n",
    "    os.rename(pro, protein_pro)\n",
    "    os.rename(dock_in, input_dock)\n",
    "    \n",
    "    update_in(input_dock, protein_pro)\n",
    "    move_to_mol2(input_dock, protein_pro)\n",
    "\n",
    "    with lepro_status:\n",
    "            lepro_status.clear_output()\n",
    "            display(HTML(success_html))\n",
    "            print(\"Revisa los archivos .in y _pro.pdb generados en tu carpeta mol2\")"
   ]
  },
  {
   "cell_type": "markdown",
   "id": "32363800-b47e-4d63-9e94-36b723db048e",
   "metadata": {},
   "source": [
    "#### Estatus del dockeo"
   ]
  },
  {
   "cell_type": "markdown",
   "id": "459ed167-1e58-4ec3-baef-add9ac7971a4",
   "metadata": {},
   "source": [
    "(Las moléculas dockeadas se encuentran en la carpeta \"dok\" generada automáticamente)"
   ]
  },
  {
   "cell_type": "code",
   "execution_count": 17,
   "id": "3e9db51f-f792-4e11-888e-a64301319884",
   "metadata": {},
   "outputs": [],
   "source": [
    "import os\n",
    "import glob\n",
    "import shutil\n",
    "import time\n",
    "import threading\n",
    "from IPython.display import display, clear_output\n",
    "import ipywidgets as widgets\n"
   ]
  },
  {
   "cell_type": "code",
   "execution_count": 18,
   "id": "2980909e-f8cb-415e-a90f-8c596b8cae25",
   "metadata": {},
   "outputs": [
    {
     "data": {
      "application/vnd.jupyter.widget-view+json": {
       "model_id": "c6aa5d1fe501425db76e7d37abafbd09",
       "version_major": 2,
       "version_minor": 0
      },
      "text/plain": [
       "Output()"
      ]
     },
     "metadata": {},
     "output_type": "display_data"
    },
    {
     "data": {
      "text/plain": [
       "'  \\n    for file in glob.glob(f\"{mol2_dir}/*.dock\"):\\n        shutil.move(file, dok_dir)\\n\\n    write_score(dok_dir, parent_dir)\\n\\n    with ledock_status:\\n        display(widgets.HTML(\"<b style=\\'color:green\\'>¡Proceso finalizado! Se ha generado el archivo output_score.txt</b>\"))\\n'"
      ]
     },
     "execution_count": 18,
     "metadata": {},
     "output_type": "execute_result"
    }
   ],
   "source": [
    "ledock_status = widgets.Output()\n",
    "display(ledock_status)\n",
    "\n",
    "def monitor_dock_files(dok_dir, stop_event):\n",
    "    existing = set()\n",
    "    with ledock_status:\n",
    "        clear_output(wait=True)\n",
    "        display(widgets.HTML(\"<b>Ejecutando LeDock...</b>\"))\n",
    "        output_area = widgets.Output()\n",
    "        display(output_area)\n",
    "\n",
    "    while not stop_event.is_set():\n",
    "        current_files = set(f for f in os.listdir(dok_dir) if f.endswith('.dok'))\n",
    "        new_files = current_files - existing\n",
    "        if new_files:\n",
    "            with output_area:\n",
    "                for file in new_files:\n",
    "                    print(f\"Archivo generado: {file}\")\n",
    "            existing.update(new_files)\n",
    "        time.sleep(2)\n",
    "\n",
    "def ledock_live():\n",
    "    create_dir()\n",
    "\n",
    "    mol2_dir = dir_selector(proteina, 2)\n",
    "    dok_dir = dir_selector(proteina, 3)\n",
    "    parent_dir = dir_selector(proteina, 1)\n",
    "\n",
    "    os.makedirs(dok_dir, exist_ok=True)\n",
    "    os.chdir(mol2_dir)\n",
    "\n",
    "    ledock_cmd = f\"/home/jarv11/share/apps/ledock/1.0/bin/ledock {input_dock}\"\n",
    "\n",
    "    stop_event = threading.Event()\n",
    "    monitor_thread = threading.Thread(target=monitor_dock_files, args=(dok_dir, stop_event))\n",
    "    monitor_thread.start()\n",
    "\n",
    "    os.system(ledock_cmd)\n",
    "\n",
    "    stop_event.set()\n",
    "    monitor_thread.join()\n",
    "\n",
    "#  Verificación de posibles ubicaciones\n",
    "    possible_dirs = [mol2_dir, parent_dir, os.getcwd()]\n",
    "\n",
    "    for d in possible_dirs:\n",
    "        for file in glob.glob(os.path.join(d, \"*.dok\")):\n",
    "            try:\n",
    "                shutil.move(file, dok_dir)\n",
    "                print(f\"Movido: {os.path.basename(file)} a {dok_dir}\")\n",
    "            except Exception as e:\n",
    "                print(f\"Error al mover {file}: {e}\")\n",
    "\n",
    "    write_score(dok_dir, parent_dir)\n",
    "\n",
    "    with ledock_status:\n",
    "        display(widgets.HTML(\"<b style='color:green'>¡Proceso finalizado! Se ha generado el archivo output_score.txt</b>\"))\n",
    "\n",
    "'''  \n",
    "    for file in glob.glob(f\"{mol2_dir}/*.dock\"):\n",
    "        shutil.move(file, dok_dir)\n",
    "\n",
    "    write_score(dok_dir, parent_dir)\n",
    "\n",
    "    with ledock_status:\n",
    "        display(widgets.HTML(\"<b style='color:green'>¡Proceso finalizado! Se ha generado el archivo output_score.txt</b>\"))\n",
    "'''\n",
    "\n"
   ]
  },
  {
   "cell_type": "code",
   "execution_count": 19,
   "id": "3012be0a-19e0-4960-9906-d80eb33d800e",
   "metadata": {},
   "outputs": [
    {
     "ename": "SyntaxError",
     "evalue": "EOF while scanning triple-quoted string literal (900688033.py, line 32)",
     "output_type": "error",
     "traceback": [
      "\u001b[0;36m  Cell \u001b[0;32mIn[19], line 32\u001b[0;36m\u001b[0m\n\u001b[0;31m    print(\"Está disponible el archivo output_score.txt con los nombres de las moléculas y el score obtenido\")\u001b[0m\n\u001b[0m                                                                                                             \n^\u001b[0m\n\u001b[0;31mSyntaxError\u001b[0m\u001b[0;31m:\u001b[0m EOF while scanning triple-quoted string literal\n"
     ]
    }
   ],
   "source": [
    "'''\n",
    "ledock_status = widgets.Output()\n",
    "display(ledock_status)\n",
    "\n",
    "def ledock():\n",
    "\n",
    "    with ledock_status:\n",
    "        ledock_status.clear_output()\n",
    "        display(HTML(waves_styles))\n",
    "        display(HTML(wave_html))\n",
    "        \n",
    "    \n",
    "    create_dir()\n",
    "    \n",
    "    mol2_dir = dir_selector(proteina, 2)\n",
    "    dok_dir = dir_selector(proteina, 3)\n",
    "    parent_dir = dir_selector(proteina, 1)\n",
    "    \n",
    "    os.chdir(mol2_dir)\n",
    "\n",
    "    # /home/jarv11/share/apps/ledock/1.0/bin/ledock\n",
    "    ledock = f\"/home/jarv11/share/apps/ledock/1.0/bin/ledock {input_dock}\"\n",
    "    !{ledock}\n",
    "\n",
    "    !mv {mol2_dir}/*.dock {dok_dir}/\n",
    "\n",
    "    write_score(dir_selector(proteina, 3), dir_selector(proteina, 1))\n",
    "\n",
    "    with ledock_status:\n",
    "        ledock_status.clear_output()\n",
    "        display(HTML(success_html))\n",
    "        print(\"Está disponible el archivo output_score.txt con los nombres de las moléculas y el score obtenido\")"
   ]
  },
  {
   "cell_type": "markdown",
   "id": "06200416-c163-42d7-bdc9-717ffc2d05b6",
   "metadata": {},
   "source": [
    "#### Estatus del archivo .csv"
   ]
  },
  {
   "cell_type": "code",
   "execution_count": 20,
   "id": "0a007ee0-1441-4d5e-80eb-886b6c06adbf",
   "metadata": {},
   "outputs": [
    {
     "data": {
      "application/vnd.jupyter.widget-view+json": {
       "model_id": "aa84ff25952f4147be0201f0f1a3bae1",
       "version_major": 2,
       "version_minor": 0
      },
      "text/plain": [
       "Output()"
      ]
     },
     "metadata": {},
     "output_type": "display_data"
    }
   ],
   "source": [
    "csv_status = widgets.Output()\n",
    "display(csv_status)\n",
    "\n",
    "def write_csv():\n",
    "\n",
    "    with csv_status:\n",
    "        csv_status.clear_output()\n",
    "        display(HTML(waves_styles))\n",
    "        display(HTML(wave_html))\n",
    "\n",
    "    import csv\n",
    "    \n",
    "    os.chdir(dir_selector(proteina, 1))\n",
    "    ligands, scores = read_txt()\n",
    "    \n",
    "    with open('output.csv', 'w', newline='') as file:\n",
    "        csvwriter = csv.writer(file)\n",
    "        for ligand, score in zip(ligands, scores):\n",
    "            csvwriter.writerow([ligand, score])\n",
    "\n",
    "    with csv_status:\n",
    "        csv_status.clear_output()\n",
    "        display(HTML(success_html))\n",
    "        print(\"Está disponible el archivo output.csv con los nombres de las moléculas y el score obtenido\")"
   ]
  },
  {
   "cell_type": "code",
   "execution_count": 21,
   "id": "565278bd-2bf8-4735-9046-6e1075e40e56",
   "metadata": {},
   "outputs": [],
   "source": [
    "def main():\n",
    "    display(pro_button)\n",
    "    pro_button.on_click(lambda _: lepro())\n",
    "\n",
    "    def run_ledock(b):\n",
    "        main_button.disabled = True\n",
    "        ledock_live()\n",
    "        main_button.disabled = False\n",
    "\n",
    "    display(main_button)\n",
    "    main_button.on_click(run_ledock)\n",
    "\n",
    "    display(csv_button)\n",
    "    csv_button.on_click(lambda _: write_csv())\n"
   ]
  },
  {
   "cell_type": "code",
   "execution_count": 22,
   "id": "9fdee490-476b-42fe-b827-b465d6bf3855",
   "metadata": {},
   "outputs": [
    {
     "ename": "SyntaxError",
     "evalue": "EOF while scanning triple-quoted string literal (1826338434.py, line 11)",
     "output_type": "error",
     "traceback": [
      "\u001b[0;36m  Cell \u001b[0;32mIn[22], line 11\u001b[0;36m\u001b[0m\n\u001b[0;31m    csv_button.on_click(lambda _: write_csv())\u001b[0m\n\u001b[0m                                              \n^\u001b[0m\n\u001b[0;31mSyntaxError\u001b[0m\u001b[0;31m:\u001b[0m EOF while scanning triple-quoted string literal\n"
     ]
    }
   ],
   "source": [
    "'''\n",
    "def main():\n",
    "\n",
    "    display(pro_button)\n",
    "    pro_button.on_click(lambda _: lepro())\n",
    "    \n",
    "    display(main_button)\n",
    "    main_button.on_click(lambda _: ledock_live())\n",
    "\n",
    "    display(csv_button)\n",
    "    csv_button.on_click(lambda _: write_csv())\n"
   ]
  },
  {
   "cell_type": "code",
   "execution_count": 23,
   "id": "c88cffcb-3fcf-470a-905e-966bc876b57b",
   "metadata": {},
   "outputs": [
    {
     "data": {
      "application/vnd.jupyter.widget-view+json": {
       "model_id": "36c5c20d8fad4983ba970d0a53abb2c7",
       "version_major": 2,
       "version_minor": 0
      },
      "text/plain": [
       "Button(button_style='warning', description='procesar proteína', style=ButtonStyle(), tooltip='Iniciar procesam…"
      ]
     },
     "metadata": {},
     "output_type": "display_data"
    },
    {
     "data": {
      "application/vnd.jupyter.widget-view+json": {
       "model_id": "cc38315aba3d4fb4b3c6e2cea3c73fa6",
       "version_major": 2,
       "version_minor": 0
      },
      "text/plain": [
       "Button(button_style='warning', description='Dockear', icon='play', style=ButtonStyle(), tooltip='Iniciar proce…"
      ]
     },
     "metadata": {},
     "output_type": "display_data"
    },
    {
     "data": {
      "application/vnd.jupyter.widget-view+json": {
       "model_id": "821480bef5294d7ba78667b179de8627",
       "version_major": 2,
       "version_minor": 0
      },
      "text/plain": [
       "Button(button_style='success', description='Generar .csv', style=ButtonStyle(), tooltip='Generar archivo .csv …"
      ]
     },
     "metadata": {},
     "output_type": "display_data"
    }
   ],
   "source": [
    "main()"
   ]
  },
  {
   "cell_type": "code",
   "execution_count": 25,
   "id": "7bbe414d-3eab-49e4-abaa-6a24365d973e",
   "metadata": {},
   "outputs": [
    {
     "name": "stdout",
     "output_type": "stream",
     "text": [
      "Verificando archivos .dok después del docking...\n",
      "\n",
      "Buscando en: /home/jarv11/Docking/UpLedock/PruebasCodeNew/4XZH_STRAT/mol2\n",
      "→ Encontrados: 0 archivos\n",
      "Buscando en: /home/jarv11/Docking/UpLedock/PruebasCodeNew/4XZH_STRAT\n",
      "→ Encontrados: 0 archivos\n",
      "Buscando en: /home/jarv11/Docking/UpLedock/PruebasCodeNew/4XZH_STRAT\n",
      "→ Encontrados: 0 archivos\n"
     ]
    }
   ],
   "source": [
    "mol2_dir = dir_selector(proteina, 2)\n",
    "dok_dir = dir_selector(proteina, 3)\n",
    "parent_dir = dir_selector(proteina, 1)\n",
    "\n",
    "print(\"Verificando archivos .dok después del docking...\\n\")\n",
    "\n",
    "possible_dirs = [mol2_dir, parent_dir, os.getcwd()]\n",
    "\n",
    "for d in possible_dirs:\n",
    "    print(f\"Buscando en: {d}\")\n",
    "    archivos = glob.glob(os.path.join(d, \"*.dok\"))\n",
    "    print(f\"→ Encontrados: {len(archivos)} archivos\")\n",
    "\n",
    "    for file in archivos:\n",
    "        print(f\"Intentando mover: {file}\")\n",
    "        try:\n",
    "            shutil.move(file, dok_dir)\n",
    "            print(f\"✅ Movido: {os.path.basename(file)} a {dok_dir}\")\n",
    "        except Exception as e:\n",
    "            print(f\"⚠️ Error al mover {file}: {e}\")\n"
   ]
  },
  {
   "cell_type": "code",
   "execution_count": 94,
   "id": "c68d2f95-5a83-44e3-ab84-7f86f5f8bfec",
   "metadata": {},
   "outputs": [],
   "source": [
    "#write_score(dok_dir, parent_dir)"
   ]
  },
  {
   "cell_type": "code",
   "execution_count": 3,
   "id": "fbec015d-bf39-4823-9031-12971f734e32",
   "metadata": {},
   "outputs": [
    {
     "name": "stdout",
     "output_type": "stream",
     "text": [
      "✅ Archivo de resultados generado: output_score.txt\n"
     ]
    }
   ],
   "source": [
    "import os\n",
    "import glob\n",
    "\n",
    "def extract_scores(dok_folder, output_file='output_score.txt'):\n",
    "    results = []\n",
    "\n",
    "    for dok_file in glob.glob(os.path.join(dok_folder, '*.dok')):\n",
    "        with open(dok_file, 'r') as f:\n",
    "            for line in f:\n",
    "                if line.startswith('REMARK') and 'Binding Energy' in line:\n",
    "                    parts = line.strip().split('=')\n",
    "                    if len(parts) == 2:\n",
    "                        score = parts[1].split()[0]  # obtiene el número\n",
    "                        name = os.path.basename(dok_file)\n",
    "                        results.append((name, score))\n",
    "                    break  # ya no seguimos leyendo ese archivo\n",
    "\n",
    "    # Guardar el archivo\n",
    "    with open(os.path.join(dok_folder, output_file), 'w') as out:\n",
    "        for name, score in results:\n",
    "            out.write(f\"{name}\\t{score}\\n\")\n",
    "\n",
    "    print(f\"✅ Archivo de resultados generado: {output_file}\")\n",
    "\n",
    "# Usa la función con tu carpeta\n",
    "extract_scores('/home/jarv11/Docking/UpLedock/PruebasCodeNew/4XZH_STRAT/dok-7501to10006')  # o cambia por la ruta correcta\n"
   ]
  },
  {
   "cell_type": "code",
   "execution_count": 4,
   "id": "3501b4c7-7252-4db1-b292-8e01e74cfbf2",
   "metadata": {},
   "outputs": [
    {
     "name": "stdout",
     "output_type": "stream",
     "text": [
      "✅ Archivo de resultados generado: /home/jarv11/Docking/UpLedock/PruebasCodeNew/4XZH_STRAT/dok-7501to10006/output_score.txt\n"
     ]
    }
   ],
   "source": [
    "import os\n",
    "import glob\n",
    "\n",
    "def extract_scores(dok_folder, output_file='output_score.txt'):\n",
    "    results = []\n",
    "\n",
    "    for dok_file in glob.glob(os.path.join(dok_folder, '*.dok')):\n",
    "        with open(dok_file, 'r') as f:\n",
    "            for line in f:\n",
    "                if \"Score:\" in line:\n",
    "                    try:\n",
    "                        score = line.strip().split(\"Score:\")[1].split()[0]\n",
    "                        name = os.path.basename(dok_file)\n",
    "                        results.append((name, score))\n",
    "                    except IndexError:\n",
    "                        print(f\"⚠️ No se pudo extraer score de {dok_file}\")\n",
    "                    break  # solo necesitamos una línea por archivo\n",
    "\n",
    "    # Guardar el archivo\n",
    "    output_path = os.path.join(dok_folder, output_file)\n",
    "    with open(output_path, 'w') as out:\n",
    "        for name, score in results:\n",
    "            out.write(f\"{name}\\t{score}\\n\")\n",
    "\n",
    "    print(f\"✅ Archivo de resultados generado: {output_path}\")\n",
    "\n",
    "# Usa tu ruta\n",
    "extract_scores('/home/jarv11/Docking/UpLedock/PruebasCodeNew/4XZH_STRAT/dok-7501to10006')\n"
   ]
  },
  {
   "cell_type": "code",
   "execution_count": null,
   "id": "877a0f67-a812-4b3d-81a1-733bcd7a3fe8",
   "metadata": {},
   "outputs": [],
   "source": []
  }
 ],
 "metadata": {
  "kernelspec": {
   "display_name": "Python 3 (ipykernel)",
   "language": "python",
   "name": "python3"
  },
  "language_info": {
   "codemirror_mode": {
    "name": "ipython",
    "version": 3
   },
   "file_extension": ".py",
   "mimetype": "text/x-python",
   "name": "python",
   "nbconvert_exporter": "python",
   "pygments_lexer": "ipython3",
   "version": "3.8.10"
  }
 },
 "nbformat": 4,
 "nbformat_minor": 5
}
